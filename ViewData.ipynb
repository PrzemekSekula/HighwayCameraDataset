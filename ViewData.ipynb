{
 "cells": [
  {
   "cell_type": "markdown",
   "metadata": {},
   "source": [
    "### View data\n",
    "Notebook used for viewing data frame by frame"
   ]
  },
  {
   "cell_type": "code",
   "execution_count": null,
   "metadata": {},
   "outputs": [],
   "source": [
    "import os \n",
    "import cv2\n",
    "import pandas as pd\n",
    "import datetime as dt\n",
    "import numpy as np\n",
    "import matplotlib.pyplot as plt"
   ]
  },
  {
   "cell_type": "code",
   "execution_count": null,
   "metadata": {},
   "outputs": [],
   "source": [
    "COLORS = {\n",
    "    'vehicle' : (255, 0, 0),\n",
    "    'truck' : (0, 255, 0),\n",
    "    'motorcycle' : (0, 0, 255),\n",
    "    'other' : (255, 255, 255)\n",
    "}"
   ]
  },
  {
   "cell_type": "code",
   "execution_count": null,
   "metadata": {},
   "outputs": [],
   "source": [
    "LABEL_FOLDER = './data/'\n",
    "labels = pd.read_csv(os.path.join(LABEL_FOLDER, 'data.csv'))\n",
    "labels = labels.sort_values('label')\n",
    "labels['code'] = labels.label.apply(lambda x: x.split('_')[0])\n",
    "prev_name = ''\n",
    "prev_value = 1\n",
    "for idx, row in labels.iterrows():\n",
    "    if row.code == prev_name:\n",
    "        prev_value += 1\n",
    "    else:\n",
    "        prev_value = 1\n",
    "        prev_name = row.code\n",
    "    code = '{}_{}'.format(prev_name, str(prev_value).zfill(2))\n",
    "    labels.at[idx, 'code'] = code\n",
    "labels = labels.set_index('code')\n",
    "labels = labels.sort_index()\n",
    "labels.fillna(0, inplace=True)\n",
    "labels[['label']]"
   ]
  },
  {
   "cell_type": "code",
   "execution_count": null,
   "metadata": {},
   "outputs": [],
   "source": [
    "def set_first_frame(df, fps):\n",
    "    first_time = df.TimeStamp.astype(int).min() / 1e9\n",
    "    if first_time > 0:\n",
    "        first_frame = np.round(first_time * fps)\n",
    "        #print ('First frame = {}'.format(first_frame))\n",
    "        tmp = df.groupby('TimeStamp').size().sort_index().reset_index().drop(0, axis=1)\n",
    "        tmp['frame'] = np.arange(len(tmp)) + first_frame\n",
    "        df = df.drop('frame', axis=1).merge(tmp, on='TimeStamp')\n",
    "    return df\n",
    "\n",
    "def change_values(df):\n",
    "    \"\"\"\n",
    "    Put everything that you want to change in data here.\n",
    "    \"\"\"\n",
    "    df.type.replace(to_replace = 'motorcycle', vlaue='vehicle', inplace=True)\n",
    "    return df\n",
    "\n",
    "def read_data(idx):\n",
    "    df = pd.read_excel(os.path.join(LABEL_FOLDER, labels.at[idx, 'label']))\n",
    "    df.TimeStamp = pd.to_timedelta(df.TimeStamp)\n",
    "    tmp = df.groupby('TimeStamp').size().sort_index().reset_index().drop(0, axis=1)\n",
    "    tmp['frame'] = np.arange(len(tmp)) - labels.at[idx, 'shift']\n",
    "    df = df.merge(tmp, on='TimeStamp')\n",
    "    \n",
    "    cap = cv2.VideoCapture(labels.loc[idx, 'video']) \n",
    "    fps = cap.get(cv2.CAP_PROP_FPS)\n",
    "    df = set_first_frame(df, fps)\n",
    "    df.frame += labels.at[idx, 'shift']\n",
    "    df = df[df.frame > 0]\n",
    "    for col in ['x', 'y', 'frame']:\n",
    "        df[col] = df[col].astype(int)\n",
    "    return df, cap\n"
   ]
  },
  {
   "cell_type": "code",
   "execution_count": null,
   "metadata": {},
   "outputs": [],
   "source": [
    "def add_rectangles(image, df):\n",
    "    for index, row in df.iterrows():\n",
    "        if row.type in COLORS:\n",
    "            color = COLORS[row.type]\n",
    "        else:\n",
    "            color = COLORS['other']\n",
    "        cv2.rectangle(image, (int (row.x), int(row.y)), (int (row.x + row.width), int (row.y + row.height)), color, 3)\n",
    "    return image\n",
    "\n",
    "def display_frame(cap, df, frameno = 1):\n",
    "    cap.set(cv2.CAP_PROP_POS_FRAMES, frameno)\n",
    "    ret, image = cap.read()\n",
    "    image = cv2.cvtColor(image, cv2.COLOR_BGR2RGB)\n",
    "    image = add_rectangles(image, df[df.frame == frameno])\n",
    "\n",
    "    plt.figure(figsize=(12, 12))\n",
    "    plt.imshow (image)\n",
    "    plt.title('Frame no. {}'.format(frameno))\n",
    "    return image\n",
    "\n",
    "def display_frames(cap, df, frame_start = None, frame_end = None):\n",
    "    if frame_start is None:\n",
    "        frame_start = df.frame.min()\n",
    "    if frame_end is None:\n",
    "        frame_end = df.frame.max()\n",
    "    frameno = frame_start\n",
    "    cap.set(cv2.CAP_PROP_POS_FRAMES, frameno)\n",
    "    while (frameno < frame_end):\n",
    "        ret, image = cap.read()\n",
    "        image = cv2.cvtColor(image, cv2.COLOR_BGR2RGB)\n",
    "        image = add_rectangles(image, df[df.frame == frameno])\n",
    "\n",
    "        plt.figure(figsize=(12, 12))\n",
    "        plt.imshow (image)\n",
    "        plt.title('Frame no. {}'.format(frameno))\n",
    "        plt.show()\n",
    "        frameno += 1\n",
    "        print (frameno)\n",
    "    \n"
   ]
  },
  {
   "cell_type": "code",
   "execution_count": null,
   "metadata": {},
   "outputs": [],
   "source": [
    "idx = labels.index[-1]\n",
    "print ('Reading {}.'.format(idx))\n",
    "df, cap = read_data(idx)\n",
    "#df.frame = df.frame -3\n",
    "df = df[df.frame > 0]\n",
    "df.head()"
   ]
  },
  {
   "cell_type": "code",
   "execution_count": null,
   "metadata": {},
   "outputs": [],
   "source": [
    "image1 = display_frame(cap, df, df.frame.min())"
   ]
  },
  {
   "cell_type": "markdown",
   "metadata": {},
   "source": [
    "### Display all frames"
   ]
  },
  {
   "cell_type": "code",
   "execution_count": null,
   "metadata": {},
   "outputs": [],
   "source": [
    "display_frames(cap, df)"
   ]
  },
  {
   "cell_type": "code",
   "execution_count": null,
   "metadata": {},
   "outputs": [],
   "source": []
  }
 ],
 "metadata": {
  "kernelspec": {
   "display_name": "Python 3",
   "language": "python",
   "name": "python3"
  },
  "language_info": {
   "codemirror_mode": {
    "name": "ipython",
    "version": 3
   },
   "file_extension": ".py",
   "mimetype": "text/x-python",
   "name": "python",
   "nbconvert_exporter": "python",
   "pygments_lexer": "ipython3",
   "version": "3.7.6"
  }
 },
 "nbformat": 4,
 "nbformat_minor": 4
}
