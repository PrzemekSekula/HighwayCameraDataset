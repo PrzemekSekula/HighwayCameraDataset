{
 "cells": [
  {
   "cell_type": "markdown",
   "metadata": {},
   "source": [
    "### OBSOLETE\n",
    "A very early version of a notebook that shows how to preprocess a dataset.\n"
   ]
  },
  {
   "cell_type": "code",
   "execution_count": null,
   "metadata": {},
   "outputs": [],
   "source": [
    "import os \n",
    "import cv2\n",
    "import pandas as pd\n",
    "import datetime as dt\n",
    "import numpy as np\n",
    "import matplotlib.pyplot as plt"
   ]
  },
  {
   "cell_type": "code",
   "execution_count": null,
   "metadata": {},
   "outputs": [],
   "source": [
    "#DATA_FILE = \"./data/Qinglian_20210420_MD-295_NB_at_I-695_Crash_ 02102021_1448_MDOT_SHA_CCTV.xlsx\"\n",
    "#VIDEO_FILE = \"/data/MoveOver/Videos/Videos_20210213/MD-295 NB at I-695 - Crash - 02102021@1448 - MDOT SHA CCTV.mp4\"\n",
    "\n",
    "DATA_FILE = \"./data_old/Qinglian_test_8_D8_30_PA_501_2021_03_02_FHWA.xlsx\"\n",
    "VIDEO_FILE = \"./data_old/test_8_D8_30_PA_501_2021_03_02_FHWA.mp4.avi\""
   ]
  },
  {
   "cell_type": "code",
   "execution_count": null,
   "metadata": {},
   "outputs": [],
   "source": [
    "COLORS = {\n",
    "    'vehicle' : (255, 0, 0),\n",
    "    'truck' : (0, 255, 0),\n",
    "    'motorcycle' : (0, 0, 255),\n",
    "    'other' : (255, 255, 255)\n",
    "}"
   ]
  },
  {
   "cell_type": "code",
   "execution_count": null,
   "metadata": {},
   "outputs": [],
   "source": [
    "def read_data(data_file):\n",
    "    df = pd.read_excel(data_file)\n",
    "    df.TimeStamp = pd.to_timedelta(df.TimeStamp)\n",
    "    tmp = df.groupby('TimeStamp').size().sort_index().reset_index().drop(0, axis=1)\n",
    "    tmp['frame'] = np.arange(len(tmp))\n",
    "    df = df.merge(tmp, on='TimeStamp')\n",
    "    return df\n",
    "\n",
    "def set_first_frame(df, fps):\n",
    "    first_time = df.TimeStamp.astype(int).min() / 1e9\n",
    "    if first_time > 0:\n",
    "        first_frame = np.round(first_time * fps)\n",
    "        print ('First frame = {}'.format(first_frame))\n",
    "        tmp = df.groupby('TimeStamp').size().sort_index().reset_index().drop(0, axis=1)\n",
    "        tmp['frame'] = np.arange(len(tmp)) + first_frame\n",
    "        df = df.drop('frame', axis=1).merge(tmp, on='TimeStamp')\n",
    "    return df\n",
    "\n",
    "\n",
    "df = read_data(DATA_FILE)\n",
    "print ('{} frames and {} objects loaded.'.format(len(df.frame.unique()), len(df)))\n",
    "df.head()\n"
   ]
  },
  {
   "cell_type": "code",
   "execution_count": null,
   "metadata": {},
   "outputs": [],
   "source": [
    "df.type.value_counts()"
   ]
  },
  {
   "cell_type": "code",
   "execution_count": null,
   "metadata": {},
   "outputs": [],
   "source": [
    "cap = cv2.VideoCapture(VIDEO_FILE) \n",
    "fps = cap.get(cv2.CAP_PROP_FPS)\n",
    "print ('FPS:', fps)\n",
    "df = set_first_frame(df, fps)\n",
    "df.frame = df.frame.astype(int)\n",
    "df.head()"
   ]
  },
  {
   "cell_type": "code",
   "execution_count": null,
   "metadata": {},
   "outputs": [],
   "source": [
    "def add_rectangles(image, df):\n",
    "    for index, row in df.iterrows():\n",
    "        if row.type in COLORS:\n",
    "            color = COLORS[row.type]\n",
    "        else:\n",
    "            color = COLORS['other']\n",
    "        cv2.rectangle(image, (int (row.x), int(row.y)), (int (row.x + row.width), int (row.y + row.height)), color, 3)\n",
    "    return image\n",
    "\n",
    "def display_frame(cap, df, frameno = 1):\n",
    "    cap.set(cv2.CAP_PROP_POS_FRAMES, frameno)\n",
    "    ret, image = cap.read()\n",
    "    image = cv2.cvtColor(image, cv2.COLOR_BGR2RGB)\n",
    "    image = add_rectangles(image, df[df.frame == frameno])\n",
    "\n",
    "    plt.figure(figsize=(12, 12))\n",
    "    plt.imshow (image)\n",
    "    plt.title('Frame no. {}'.format(frameno))\n",
    "    return image\n",
    "\n",
    "def display_frames(cap, df, frame_start = None, frame_end = None):\n",
    "    if frame_start is None:\n",
    "        frame_start = df.frame.min()\n",
    "    if frame_end is None:\n",
    "        frame_end = df.frame.max()\n",
    "    frameno = frame_start\n",
    "    cap.set(cv2.CAP_PROP_POS_FRAMES, frameno)\n",
    "    while (frameno < frame_end):\n",
    "        ret, image = cap.read()\n",
    "        image = cv2.cvtColor(image, cv2.COLOR_BGR2RGB)\n",
    "        image = add_rectangles(image, df[df.frame == frameno])\n",
    "\n",
    "        plt.figure(figsize=(12, 12))\n",
    "        plt.imshow (image)\n",
    "        plt.title('Frame no. {}'.format(frameno))\n",
    "        plt.show()\n",
    "        frameno += 1\n",
    "        print (frameno)\n",
    "    \n"
   ]
  },
  {
   "cell_type": "markdown",
   "metadata": {},
   "source": [
    "### How to display one frame"
   ]
  },
  {
   "cell_type": "code",
   "execution_count": null,
   "metadata": {},
   "outputs": [],
   "source": [
    "image1 = display_frame(cap, df, df.frame.min())"
   ]
  },
  {
   "cell_type": "markdown",
   "metadata": {},
   "source": [
    "### How to display all frames"
   ]
  },
  {
   "cell_type": "code",
   "execution_count": null,
   "metadata": {},
   "outputs": [],
   "source": [
    "display_frames(cap, df)"
   ]
  },
  {
   "cell_type": "code",
   "execution_count": null,
   "metadata": {},
   "outputs": [],
   "source": []
  }
 ],
 "metadata": {
  "kernelspec": {
   "display_name": "Python [conda env:object_detection]",
   "language": "python",
   "name": "conda-env-object_detection-py"
  },
  "language_info": {
   "codemirror_mode": {
    "name": "ipython",
    "version": 3
   },
   "file_extension": ".py",
   "mimetype": "text/x-python",
   "name": "python",
   "nbconvert_exporter": "python",
   "pygments_lexer": "ipython3",
   "version": "3.7.6"
  }
 },
 "nbformat": 4,
 "nbformat_minor": 4
}
