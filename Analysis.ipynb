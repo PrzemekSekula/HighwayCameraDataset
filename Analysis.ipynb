{
 "cells": [
  {
   "cell_type": "markdown",
   "metadata": {},
   "source": [
    "### Data initial analysis\n",
    "A notebook used for the initial data analysis"
   ]
  },
  {
   "cell_type": "code",
   "execution_count": null,
   "metadata": {},
   "outputs": [],
   "source": [
    "import pandas as pd\n",
    "import os\n",
    "import sys"
   ]
  },
  {
   "cell_type": "code",
   "execution_count": null,
   "metadata": {},
   "outputs": [],
   "source": []
  },
  {
   "cell_type": "code",
   "execution_count": null,
   "metadata": {},
   "outputs": [],
   "source": [
    "LABEL_FOLDER = './data/'\n",
    "labels = pd.read_csv(os.path.join(LABEL_FOLDER, 'data.csv'))\n",
    "labels"
   ]
  },
  {
   "cell_type": "code",
   "execution_count": null,
   "metadata": {},
   "outputs": [],
   "source": [
    "sorted([f for f in os.listdir(LABEL_FOLDER) if os.path.isfile(os.path.join(LABEL_FOLDER, f))])"
   ]
  },
  {
   "cell_type": "code",
   "execution_count": null,
   "metadata": {},
   "outputs": [],
   "source": [
    "df = []\n",
    "i = 0\n",
    "for idx, row in labels.iterrows():\n",
    "    process = True\n",
    "    sys.stdout.write('{}/{} videos processed.    \\r'.format(i, len(labels)))\n",
    "    i += 1\n",
    "    if not os.path.exists(os.path.join(LABEL_FOLDER, row.label)):\n",
    "        print ('Warning! Label file {} does not exist in folder {}.'.format(row.label, LABEL_FOLDER))\n",
    "        process = False\n",
    "    if not os.path.exists(row.video):\n",
    "        print ('Warning! Video file {} does not exist.'.format(row.video))\n",
    "        process = False\n",
    "    if process:\n",
    "        tmp = pd.read_excel(os.path.join(LABEL_FOLDER, row.label))\n",
    "        tmp['label'] = row.label\n",
    "        tmp['video'] = row.video\n",
    "        if len(df) == 0:\n",
    "            df = tmp.copy()\n",
    "        else:\n",
    "            df = pd.concat([df, tmp], ignore_index = True)\n",
    "    #print ('{} done. We have {} rows in total'.format(row.label, len(df)))\n",
    "df['author'] = df.label.apply(lambda x: x.split('_')[0])\n",
    "print('{}/{} videos processed.         '.format(i, len(labels)))\n",
    "print (f\"Found {len(df):,} rows, ({len(df[df.type != 'delete']):,} objects and {len(df[df.type == 'delete']):,} areas to delete).\")\n",
    "                                                                            \n",
    "df.head()"
   ]
  },
  {
   "cell_type": "code",
   "execution_count": null,
   "metadata": {},
   "outputs": [],
   "source": [
    "df.groupby(['label', 'type']).agg({'TimeStamp' : 'count'})"
   ]
  },
  {
   "cell_type": "code",
   "execution_count": null,
   "metadata": {},
   "outputs": [],
   "source": [
    "df[df.type != 'delete'].author.value_counts().apply(lambda x: \"{:,}\".format(x))"
   ]
  },
  {
   "cell_type": "code",
   "execution_count": null,
   "metadata": {},
   "outputs": [],
   "source": [
    "df.type.value_counts().apply(lambda x: \"{:,}\".format(x))"
   ]
  },
  {
   "cell_type": "code",
   "execution_count": null,
   "metadata": {},
   "outputs": [],
   "source": []
  },
  {
   "cell_type": "code",
   "execution_count": null,
   "metadata": {},
   "outputs": [],
   "source": []
  },
  {
   "cell_type": "code",
   "execution_count": null,
   "metadata": {},
   "outputs": [],
   "source": []
  }
 ],
 "metadata": {
  "kernelspec": {
   "display_name": "Python 3",
   "language": "python",
   "name": "python3"
  },
  "language_info": {
   "codemirror_mode": {
    "name": "ipython",
    "version": 3
   },
   "file_extension": ".py",
   "mimetype": "text/x-python",
   "name": "python",
   "nbconvert_exporter": "python",
   "pygments_lexer": "ipython3",
   "version": "3.7.6"
  }
 },
 "nbformat": 4,
 "nbformat_minor": 4
}
